{
 "cells": [
  {
   "cell_type": "code",
   "execution_count": 2,
   "id": "initial_id",
   "metadata": {
    "collapsed": true,
    "ExecuteTime": {
     "end_time": "2025-03-23T09:11:04.625611Z",
     "start_time": "2025-03-23T09:11:02.762635Z"
    }
   },
   "outputs": [],
   "source": [
    "import jsonlines\n",
    "import torch\n",
    "import torch.nn as nn\n",
    "from torch.utils.data import Dataset, DataLoader"
   ]
  },
  {
   "cell_type": "code",
   "outputs": [],
   "source": [
    "data = []\n",
    "with open(\"./snli_1.0_dev.jsonl\", \"r\", encoding='utf-8') as f:\n",
    "    for line in jsonlines.Reader(f):\n",
    "        premise = line[\"sentence1\"]\n",
    "        hypothesis = line[\"sentence2\"]\n",
    "        label = line[\"gold_label\"]\n",
    "        if label == \"-\":\n",
    "            continue\n",
    "        data.append((premise, hypothesis, label))"
   ],
   "metadata": {
    "collapsed": false,
    "ExecuteTime": {
     "end_time": "2025-03-23T09:27:18.458036Z",
     "start_time": "2025-03-23T09:27:18.420268Z"
    }
   },
   "id": "83566a0ef3fd7c25",
   "execution_count": 20
  },
  {
   "cell_type": "code",
   "outputs": [],
   "source": [
    "class TextDataset(Dataset):\n",
    "    def __init__(self, raw_data, seq_len):\n",
    "        self.raw_data = raw_data\n",
    "        self.seq_len = seq_len\n",
    "        self.vocab = self._build_vocab()\n",
    "        self.word_2_index = {word: index+1 for index, word in enumerate(self.vocab)}\n",
    "        self.word_2_index.update({\"<PAD>\": 0})\n",
    "        self.index_2_word = {index+1: word for index, word in enumerate(self.vocab)}\n",
    "        self.index_2_word.update({0: \"<PAD>\"})\n",
    "        self.label_mapping = {\"neutral\": 0, \"entailment\": 1, \"contradiction\": 2}\n",
    "        self.data = self._build_corpus()\n",
    "        \n",
    "    def _build_vocab(self):\n",
    "        all_text = \"\"\n",
    "        for nli_pair in self.raw_data:\n",
    "            all_text += nli_pair[0].lower() + \" \"\n",
    "            all_text += nli_pair[1].lower() + \" \"\n",
    "        return sorted(set(all_text.split()))\n",
    "    \n",
    "    def _build_corpus(self):\n",
    "        data = []\n",
    "        for nli_pair in self.raw_data:\n",
    "            premise, hypothesis = nli_pair[0].lower(), nli_pair[1].lower()\n",
    "            premise_index = [self.word_2_index[word_premise] for word_premise in premise.split()]\n",
    "            premise_index += [0 for _ in range(self.seq_len - len(premise_index))]\n",
    "            hypothesis_index = [self.word_2_index[word_hypothesis] for word_hypothesis in hypothesis.split()]\n",
    "            hypothesis_index += [0 for _ in range(self.seq_len - len(hypothesis_index))]\n",
    "            label_index = self.label_mapping[nli_pair[2]]\n",
    "            data.append((premise_index, hypothesis_index, label_index))\n",
    "        return data\n",
    "    \n",
    "    def __len__(self):\n",
    "        return len(self.data)\n",
    "    \n",
    "    def __getitem__(self, idx):\n",
    "        premise_index = self.data[idx][0]\n",
    "        hypothesis_index = self.data[idx][1]\n",
    "        label_index = self.data[idx][2]\n",
    "        return torch.Tensor(premise_index).to(torch.int), torch.Tensor(hypothesis_index).to(torch.int), label_index"
   ],
   "metadata": {
    "collapsed": false,
    "ExecuteTime": {
     "end_time": "2025-03-23T09:29:00.823277Z",
     "start_time": "2025-03-23T09:29:00.818566Z"
    }
   },
   "id": "396cc03877823c3d",
   "execution_count": 24
  },
  {
   "cell_type": "code",
   "outputs": [],
   "source": [
    "class ESIMModel(nn.Module):\n",
    "    def __init__(self, vocab_size, embedding_dim, hidden_size):\n",
    "        super().__init__()\n",
    "        self.embedding = nn.Embedding(vocab_size, embedding_dim)\n",
    "        self.encoder = nn.LSTM(input_size=embedding_dim, hidden_size=hidden_size, bidirectional=True)\n",
    "        self.inference_encoder = nn.LSTM(hidden_size*8, hidden_size, bidirectional=True)\n",
    "        self.fc = nn.Linear(hidden_size*8, 3)  # 3分类\n",
    "        \n",
    "        \n",
    "    def forward(self, premise, hypothesis):\n",
    "        a_emb = self.embedding(premise) # (batch_size, seq_len, emb_dim)\n",
    "        b_emb = self.embedding(hypothesis)\n",
    "        a_encoded, _ = self.encoder(a_emb) # (batch_size, seq_len, 2*hidden_size)\n",
    "        b_encoded, _ = self.encoder(b_emb)\n",
    "        \n",
    "        attn = torch.matmul(a_encoded, b_encoded.transpose(1, 2)) # (batch_size, a_len, b_len)\n",
    "        a_tilde = torch.matmul(torch.softmax(attn, dim=2), b_encoded)\n",
    "        b_tilde = torch.matmul(torch.softmax(attn, dim=1).transpose(1, 2), a_encoded)\n",
    "        \n",
    "        # 增强表示\n",
    "        m_a = torch.cat([a_encoded, a_tilde, a_encoded - a_tilde, a_encoded * a_tilde], dim=2)\n",
    "        m_b = torch.cat([b_encoded, b_tilde, b_encoded - b_tilde, b_encoded * b_tilde], dim=2)\n",
    "        \n",
    "        # 推理组合\n",
    "        v_a, _ = self.inference_encoder(m_a)\n",
    "        v_b, _ = self.inference_encoder(m_b)\n",
    "        v_a = torch.cat([v_a.max(dim=1)[0], v_a.mean(dim=1)], dim=1)\n",
    "        v_b = torch.cat([v_b.max(dim=1)[0], v_b.mean(dim=1)], dim=1)\n",
    "        v = torch.cat([v_a, v_b], dim=1)\n",
    "        \n",
    "        # 预测\n",
    "        logits = self.fc(v)\n",
    "        return logits"
   ],
   "metadata": {
    "collapsed": false,
    "ExecuteTime": {
     "end_time": "2025-03-23T09:29:01.024881Z",
     "start_time": "2025-03-23T09:29:01.020758Z"
    }
   },
   "id": "8356765b0b8d5338",
   "execution_count": 25
  },
  {
   "cell_type": "code",
   "outputs": [
    {
     "name": "stdout",
     "output_type": "stream",
     "text": [
      "Epoch [1/10]: Train loss: 0.9993\n",
      "Epoch [2/10]: Train loss: 0.7467\n",
      "Epoch [3/10]: Train loss: 0.4683\n"
     ]
    },
    {
     "ename": "KeyboardInterrupt",
     "evalue": "",
     "output_type": "error",
     "traceback": [
      "\u001B[1;31m---------------------------------------------------------------------------\u001B[0m",
      "\u001B[1;31mKeyboardInterrupt\u001B[0m                         Traceback (most recent call last)",
      "Cell \u001B[1;32mIn[27], line 26\u001B[0m\n\u001B[0;32m     23\u001B[0m prediction \u001B[38;5;241m=\u001B[39m model(pre, hypo)\n\u001B[0;32m     24\u001B[0m loss \u001B[38;5;241m=\u001B[39m criterion(prediction, label)\n\u001B[1;32m---> 26\u001B[0m \u001B[43mloss\u001B[49m\u001B[38;5;241;43m.\u001B[39;49m\u001B[43mbackward\u001B[49m\u001B[43m(\u001B[49m\u001B[43m)\u001B[49m\n\u001B[0;32m     27\u001B[0m opt\u001B[38;5;241m.\u001B[39mstep()\n\u001B[0;32m     28\u001B[0m opt\u001B[38;5;241m.\u001B[39mzero_grad()\n",
      "File \u001B[1;32m~\\AppData\\Local\\Programs\\Python\\Python312\\Lib\\site-packages\\torch\\_tensor.py:521\u001B[0m, in \u001B[0;36mTensor.backward\u001B[1;34m(self, gradient, retain_graph, create_graph, inputs)\u001B[0m\n\u001B[0;32m    511\u001B[0m \u001B[38;5;28;01mif\u001B[39;00m has_torch_function_unary(\u001B[38;5;28mself\u001B[39m):\n\u001B[0;32m    512\u001B[0m     \u001B[38;5;28;01mreturn\u001B[39;00m handle_torch_function(\n\u001B[0;32m    513\u001B[0m         Tensor\u001B[38;5;241m.\u001B[39mbackward,\n\u001B[0;32m    514\u001B[0m         (\u001B[38;5;28mself\u001B[39m,),\n\u001B[1;32m   (...)\u001B[0m\n\u001B[0;32m    519\u001B[0m         inputs\u001B[38;5;241m=\u001B[39minputs,\n\u001B[0;32m    520\u001B[0m     )\n\u001B[1;32m--> 521\u001B[0m \u001B[43mtorch\u001B[49m\u001B[38;5;241;43m.\u001B[39;49m\u001B[43mautograd\u001B[49m\u001B[38;5;241;43m.\u001B[39;49m\u001B[43mbackward\u001B[49m\u001B[43m(\u001B[49m\n\u001B[0;32m    522\u001B[0m \u001B[43m    \u001B[49m\u001B[38;5;28;43mself\u001B[39;49m\u001B[43m,\u001B[49m\u001B[43m \u001B[49m\u001B[43mgradient\u001B[49m\u001B[43m,\u001B[49m\u001B[43m \u001B[49m\u001B[43mretain_graph\u001B[49m\u001B[43m,\u001B[49m\u001B[43m \u001B[49m\u001B[43mcreate_graph\u001B[49m\u001B[43m,\u001B[49m\u001B[43m \u001B[49m\u001B[43minputs\u001B[49m\u001B[38;5;241;43m=\u001B[39;49m\u001B[43minputs\u001B[49m\n\u001B[0;32m    523\u001B[0m \u001B[43m\u001B[49m\u001B[43m)\u001B[49m\n",
      "File \u001B[1;32m~\\AppData\\Local\\Programs\\Python\\Python312\\Lib\\site-packages\\torch\\autograd\\__init__.py:289\u001B[0m, in \u001B[0;36mbackward\u001B[1;34m(tensors, grad_tensors, retain_graph, create_graph, grad_variables, inputs)\u001B[0m\n\u001B[0;32m    284\u001B[0m     retain_graph \u001B[38;5;241m=\u001B[39m create_graph\n\u001B[0;32m    286\u001B[0m \u001B[38;5;66;03m# The reason we repeat the same comment below is that\u001B[39;00m\n\u001B[0;32m    287\u001B[0m \u001B[38;5;66;03m# some Python versions print out the first line of a multi-line function\u001B[39;00m\n\u001B[0;32m    288\u001B[0m \u001B[38;5;66;03m# calls in the traceback and some print out the last line\u001B[39;00m\n\u001B[1;32m--> 289\u001B[0m \u001B[43m_engine_run_backward\u001B[49m\u001B[43m(\u001B[49m\n\u001B[0;32m    290\u001B[0m \u001B[43m    \u001B[49m\u001B[43mtensors\u001B[49m\u001B[43m,\u001B[49m\n\u001B[0;32m    291\u001B[0m \u001B[43m    \u001B[49m\u001B[43mgrad_tensors_\u001B[49m\u001B[43m,\u001B[49m\n\u001B[0;32m    292\u001B[0m \u001B[43m    \u001B[49m\u001B[43mretain_graph\u001B[49m\u001B[43m,\u001B[49m\n\u001B[0;32m    293\u001B[0m \u001B[43m    \u001B[49m\u001B[43mcreate_graph\u001B[49m\u001B[43m,\u001B[49m\n\u001B[0;32m    294\u001B[0m \u001B[43m    \u001B[49m\u001B[43minputs\u001B[49m\u001B[43m,\u001B[49m\n\u001B[0;32m    295\u001B[0m \u001B[43m    \u001B[49m\u001B[43mallow_unreachable\u001B[49m\u001B[38;5;241;43m=\u001B[39;49m\u001B[38;5;28;43;01mTrue\u001B[39;49;00m\u001B[43m,\u001B[49m\n\u001B[0;32m    296\u001B[0m \u001B[43m    \u001B[49m\u001B[43maccumulate_grad\u001B[49m\u001B[38;5;241;43m=\u001B[39;49m\u001B[38;5;28;43;01mTrue\u001B[39;49;00m\u001B[43m,\u001B[49m\n\u001B[0;32m    297\u001B[0m \u001B[43m\u001B[49m\u001B[43m)\u001B[49m\n",
      "File \u001B[1;32m~\\AppData\\Local\\Programs\\Python\\Python312\\Lib\\site-packages\\torch\\autograd\\graph.py:769\u001B[0m, in \u001B[0;36m_engine_run_backward\u001B[1;34m(t_outputs, *args, **kwargs)\u001B[0m\n\u001B[0;32m    767\u001B[0m     unregister_hooks \u001B[38;5;241m=\u001B[39m _register_logging_hooks_on_whole_graph(t_outputs)\n\u001B[0;32m    768\u001B[0m \u001B[38;5;28;01mtry\u001B[39;00m:\n\u001B[1;32m--> 769\u001B[0m     \u001B[38;5;28;01mreturn\u001B[39;00m \u001B[43mVariable\u001B[49m\u001B[38;5;241;43m.\u001B[39;49m\u001B[43m_execution_engine\u001B[49m\u001B[38;5;241;43m.\u001B[39;49m\u001B[43mrun_backward\u001B[49m\u001B[43m(\u001B[49m\u001B[43m  \u001B[49m\u001B[38;5;66;43;03m# Calls into the C++ engine to run the backward pass\u001B[39;49;00m\n\u001B[0;32m    770\u001B[0m \u001B[43m        \u001B[49m\u001B[43mt_outputs\u001B[49m\u001B[43m,\u001B[49m\u001B[43m \u001B[49m\u001B[38;5;241;43m*\u001B[39;49m\u001B[43margs\u001B[49m\u001B[43m,\u001B[49m\u001B[43m \u001B[49m\u001B[38;5;241;43m*\u001B[39;49m\u001B[38;5;241;43m*\u001B[39;49m\u001B[43mkwargs\u001B[49m\n\u001B[0;32m    771\u001B[0m \u001B[43m    \u001B[49m\u001B[43m)\u001B[49m  \u001B[38;5;66;03m# Calls into the C++ engine to run the backward pass\u001B[39;00m\n\u001B[0;32m    772\u001B[0m \u001B[38;5;28;01mfinally\u001B[39;00m:\n\u001B[0;32m    773\u001B[0m     \u001B[38;5;28;01mif\u001B[39;00m attach_logging_hooks:\n",
      "\u001B[1;31mKeyboardInterrupt\u001B[0m: "
     ]
    }
   ],
   "source": [
    "batch_size = 32\n",
    "seq_len = 64\n",
    "emb_dim = 128\n",
    "hidden_size = 128\n",
    "epochs = 10\n",
    "learning_rate = 0.001\n",
    "\n",
    "dataset = TextDataset(data, seq_len)\n",
    "vocab_size = len(dataset.word_2_index)\n",
    "\n",
    "dataloader = DataLoader(dataset, batch_size=batch_size)\n",
    "\n",
    "model = ESIMModel(vocab_size, emb_dim, hidden_size)\n",
    "\n",
    "opt = torch.optim.AdamW(model.parameters(), lr=learning_rate)\n",
    "\n",
    "criterion = nn.CrossEntropyLoss()\n",
    "\n",
    "for epoch in range(epochs):\n",
    "    \n",
    "    train_loss, train_total = 0, 0\n",
    "    for pre, hypo, label in dataloader:\n",
    "        prediction = model(pre, hypo)\n",
    "        loss = criterion(prediction, label)\n",
    "        \n",
    "        loss.backward()\n",
    "        opt.step()\n",
    "        opt.zero_grad()\n",
    "        \n",
    "        train_loss += loss.item() * pre.size(0)\n",
    "        train_total += pre.size(0)\n",
    "        \n",
    "    epoch_loss = train_loss / train_total\n",
    "    \n",
    "    print(f'Epoch [{epoch + 1}/{epochs}]: Train loss: {epoch_loss:.4f}')\n",
    "        "
   ],
   "metadata": {
    "collapsed": false,
    "ExecuteTime": {
     "end_time": "2025-03-23T09:33:09.837446Z",
     "start_time": "2025-03-23T09:31:21.627269Z"
    }
   },
   "id": "1cf6412df753e2fc",
   "execution_count": 27
  },
  {
   "cell_type": "code",
   "outputs": [],
   "source": [],
   "metadata": {
    "collapsed": false
   },
   "id": "c0f59d31f00a3f94"
  }
 ],
 "metadata": {
  "kernelspec": {
   "display_name": "Python 3",
   "language": "python",
   "name": "python3"
  },
  "language_info": {
   "codemirror_mode": {
    "name": "ipython",
    "version": 2
   },
   "file_extension": ".py",
   "mimetype": "text/x-python",
   "name": "python",
   "nbconvert_exporter": "python",
   "pygments_lexer": "ipython2",
   "version": "2.7.6"
  }
 },
 "nbformat": 4,
 "nbformat_minor": 5
}
